{
 "cells": [
  {
   "cell_type": "markdown",
   "id": "3bc3d5ec-8507-4578-9add-d77d352686ea",
   "metadata": {},
   "source": [
    "Deanna Clayton Mod5 Bonus"
   ]
  },
  {
   "cell_type": "markdown",
   "id": "8d3d3224-ea5b-4e6a-86b3-ba22860c0490",
   "metadata": {},
   "source": [
    "Ch 8.13: Pandas, Regular Expressions, and Data Munging"
   ]
  },
  {
   "cell_type": "code",
   "execution_count": 1,
   "id": "a3a1a202-e8a0-4d3f-a9da-20092aa907da",
   "metadata": {},
   "outputs": [],
   "source": [
    "import pandas as pd"
   ]
  },
  {
   "cell_type": "code",
   "execution_count": 2,
   "id": "a7ea4621-be2c-47cd-b4f3-f011d26e0c01",
   "metadata": {},
   "outputs": [],
   "source": [
    "zips = pd.Series({'Boston': '02215', 'Miami': '3310'})"
   ]
  },
  {
   "cell_type": "code",
   "execution_count": 3,
   "id": "b5fab8e7-b454-47fe-a8b8-269ab914cd8d",
   "metadata": {},
   "outputs": [
    {
     "data": {
      "text/plain": [
       "Boston    02215\n",
       "Miami      3310\n",
       "dtype: object"
      ]
     },
     "execution_count": 3,
     "metadata": {},
     "output_type": "execute_result"
    }
   ],
   "source": [
    "zips"
   ]
  },
  {
   "cell_type": "code",
   "execution_count": 4,
   "id": "f8c68576-209c-4fa8-acc4-56e953f6805a",
   "metadata": {},
   "outputs": [
    {
     "data": {
      "text/plain": [
       "Boston     True\n",
       "Miami     False\n",
       "dtype: bool"
      ]
     },
     "execution_count": 4,
     "metadata": {},
     "output_type": "execute_result"
    }
   ],
   "source": [
    "zips.str.match(r'\\d{5}')"
   ]
  },
  {
   "cell_type": "markdown",
   "id": "0c21fb95-6426-4b9d-a0ba-192e1e5c25d5",
   "metadata": {},
   "source": [
    "Deanna Clayton Mod5 Checkpoint3: Zipcode"
   ]
  },
  {
   "cell_type": "code",
   "execution_count": 5,
   "id": "d81b3c63-cd12-445b-8fce-38e2f7a9fbaa",
   "metadata": {},
   "outputs": [],
   "source": [
    "cities = pd.Series(['Boston, MA 02215', 'Miami, FL 33101'])"
   ]
  },
  {
   "cell_type": "code",
   "execution_count": 6,
   "id": "18e3cada-e3c9-497c-a167-84c4770e7065",
   "metadata": {},
   "outputs": [
    {
     "data": {
      "text/plain": [
       "0    Boston, MA 02215\n",
       "1     Miami, FL 33101\n",
       "dtype: object"
      ]
     },
     "execution_count": 6,
     "metadata": {},
     "output_type": "execute_result"
    }
   ],
   "source": [
    "cities"
   ]
  },
  {
   "cell_type": "code",
   "execution_count": 7,
   "id": "f893480b-4d79-4198-b90c-5283fe8b95f9",
   "metadata": {},
   "outputs": [
    {
     "data": {
      "text/plain": [
       "0    True\n",
       "1    True\n",
       "dtype: bool"
      ]
     },
     "execution_count": 7,
     "metadata": {},
     "output_type": "execute_result"
    }
   ],
   "source": [
    "cities.str.contains(r' [A-Z]{2} ')"
   ]
  },
  {
   "cell_type": "markdown",
   "id": "604e0038-92a6-4e47-84dc-01d7fb1fbe14",
   "metadata": {},
   "source": [
    "Deanna Clayton Mod5 Checkpoint4: City Names"
   ]
  },
  {
   "cell_type": "code",
   "execution_count": 8,
   "id": "d76c07d5-240d-42be-a27e-15b80eb121d6",
   "metadata": {},
   "outputs": [],
   "source": [
    "contacts = [['Mike Green', 'demo1@deitel.com', '5555555555'],\n",
    "            ['Sue Brown', 'demo2@deitel.com', '5555551234']]"
   ]
  },
  {
   "cell_type": "code",
   "execution_count": 10,
   "id": "6659f29a-17c1-4261-aab6-1a617a9f5d68",
   "metadata": {},
   "outputs": [],
   "source": [
    "contactsdf = pd.DataFrame(contacts, columns = ['Name', 'Email', 'Phone'])"
   ]
  },
  {
   "cell_type": "code",
   "execution_count": 11,
   "id": "6a623771-575e-4ab3-861b-99ddad2758bf",
   "metadata": {},
   "outputs": [
    {
     "data": {
      "text/html": [
       "<div>\n",
       "<style scoped>\n",
       "    .dataframe tbody tr th:only-of-type {\n",
       "        vertical-align: middle;\n",
       "    }\n",
       "\n",
       "    .dataframe tbody tr th {\n",
       "        vertical-align: top;\n",
       "    }\n",
       "\n",
       "    .dataframe thead th {\n",
       "        text-align: right;\n",
       "    }\n",
       "</style>\n",
       "<table border=\"1\" class=\"dataframe\">\n",
       "  <thead>\n",
       "    <tr style=\"text-align: right;\">\n",
       "      <th></th>\n",
       "      <th>Name</th>\n",
       "      <th>Email</th>\n",
       "      <th>Phone</th>\n",
       "    </tr>\n",
       "  </thead>\n",
       "  <tbody>\n",
       "    <tr>\n",
       "      <th>0</th>\n",
       "      <td>Mike Green</td>\n",
       "      <td>demo1@deitel.com</td>\n",
       "      <td>5555555555</td>\n",
       "    </tr>\n",
       "    <tr>\n",
       "      <th>1</th>\n",
       "      <td>Sue Brown</td>\n",
       "      <td>demo2@deitel.com</td>\n",
       "      <td>5555551234</td>\n",
       "    </tr>\n",
       "  </tbody>\n",
       "</table>\n",
       "</div>"
      ],
      "text/plain": [
       "         Name             Email       Phone\n",
       "0  Mike Green  demo1@deitel.com  5555555555\n",
       "1   Sue Brown  demo2@deitel.com  5555551234"
      ]
     },
     "execution_count": 11,
     "metadata": {},
     "output_type": "execute_result"
    }
   ],
   "source": [
    "contactsdf"
   ]
  },
  {
   "cell_type": "code",
   "execution_count": 12,
   "id": "4f7838aa-dc73-4a6c-993a-df8f10bf7fef",
   "metadata": {},
   "outputs": [],
   "source": [
    "import re"
   ]
  },
  {
   "cell_type": "code",
   "execution_count": 13,
   "id": "154fe08e-bc26-4a8b-b599-19d13d1df4ae",
   "metadata": {},
   "outputs": [],
   "source": [
    "def get_formatted_phone(value):\n",
    "    result = re.fullmatch(r'(\\d{3})(\\d{3})(\\d{4})', value)\n",
    "    return '-'.join(result.groups()) if result else value"
   ]
  },
  {
   "cell_type": "code",
   "execution_count": 14,
   "id": "aba68a39-767c-4a38-a113-ab3c4e70619f",
   "metadata": {},
   "outputs": [],
   "source": [
    "formatted_phone = contactsdf['Phone'].map(get_formatted_phone)"
   ]
  },
  {
   "cell_type": "code",
   "execution_count": 15,
   "id": "389661bd-bbba-4de1-9ccb-c8aadc901cce",
   "metadata": {},
   "outputs": [
    {
     "data": {
      "text/plain": [
       "0    555-555-5555\n",
       "1    555-555-1234\n",
       "Name: Phone, dtype: object"
      ]
     },
     "execution_count": 15,
     "metadata": {},
     "output_type": "execute_result"
    }
   ],
   "source": [
    "formatted_phone"
   ]
  },
  {
   "cell_type": "code",
   "execution_count": 16,
   "id": "f1e31ad5-367f-4cd1-ad70-f88860cbac3e",
   "metadata": {},
   "outputs": [],
   "source": [
    "contactsdf['Phone'] = formatted_phone"
   ]
  },
  {
   "cell_type": "code",
   "execution_count": 17,
   "id": "de96b289-e2f6-4608-b9bf-67fadaeb05dc",
   "metadata": {},
   "outputs": [
    {
     "data": {
      "text/html": [
       "<div>\n",
       "<style scoped>\n",
       "    .dataframe tbody tr th:only-of-type {\n",
       "        vertical-align: middle;\n",
       "    }\n",
       "\n",
       "    .dataframe tbody tr th {\n",
       "        vertical-align: top;\n",
       "    }\n",
       "\n",
       "    .dataframe thead th {\n",
       "        text-align: right;\n",
       "    }\n",
       "</style>\n",
       "<table border=\"1\" class=\"dataframe\">\n",
       "  <thead>\n",
       "    <tr style=\"text-align: right;\">\n",
       "      <th></th>\n",
       "      <th>Name</th>\n",
       "      <th>Email</th>\n",
       "      <th>Phone</th>\n",
       "    </tr>\n",
       "  </thead>\n",
       "  <tbody>\n",
       "    <tr>\n",
       "      <th>0</th>\n",
       "      <td>Mike Green</td>\n",
       "      <td>demo1@deitel.com</td>\n",
       "      <td>555-555-5555</td>\n",
       "    </tr>\n",
       "    <tr>\n",
       "      <th>1</th>\n",
       "      <td>Sue Brown</td>\n",
       "      <td>demo2@deitel.com</td>\n",
       "      <td>555-555-1234</td>\n",
       "    </tr>\n",
       "  </tbody>\n",
       "</table>\n",
       "</div>"
      ],
      "text/plain": [
       "         Name             Email         Phone\n",
       "0  Mike Green  demo1@deitel.com  555-555-5555\n",
       "1   Sue Brown  demo2@deitel.com  555-555-1234"
      ]
     },
     "execution_count": 17,
     "metadata": {},
     "output_type": "execute_result"
    }
   ],
   "source": [
    "contactsdf"
   ]
  },
  {
   "cell_type": "markdown",
   "id": "c443e9bf-9e80-4319-9b0d-f5c340df98e2",
   "metadata": {},
   "source": [
    "Deanna Clayton Mod 5 Checkpoint5: DataFrames/reformating"
   ]
  },
  {
   "cell_type": "code",
   "execution_count": null,
   "id": "07d47eee-fc90-4e43-833a-375db125f519",
   "metadata": {},
   "outputs": [],
   "source": []
  }
 ],
 "metadata": {
  "kernelspec": {
   "display_name": "Python 3 (ipykernel)",
   "language": "python",
   "name": "python3"
  },
  "language_info": {
   "codemirror_mode": {
    "name": "ipython",
    "version": 3
   },
   "file_extension": ".py",
   "mimetype": "text/x-python",
   "name": "python",
   "nbconvert_exporter": "python",
   "pygments_lexer": "ipython3",
   "version": "3.9.12"
  }
 },
 "nbformat": 4,
 "nbformat_minor": 5
}
